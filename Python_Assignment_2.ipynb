{
  "nbformat": 4,
  "nbformat_minor": 0,
  "metadata": {
    "colab": {
      "name": "Python Assignment 2.ipynb",
      "provenance": [],
      "authorship_tag": "ABX9TyML6SnENCBJNnJJueaVs5Ji",
      "include_colab_link": true
    },
    "kernelspec": {
      "name": "python3",
      "display_name": "Python 3"
    }
  },
  "cells": [
    {
      "cell_type": "markdown",
      "metadata": {
        "id": "view-in-github",
        "colab_type": "text"
      },
      "source": [
        "<a href=\"https://colab.research.google.com/github/martipath/DLCVNLP/blob/main/Python_Assignment_2.ipynb\" target=\"_parent\"><img src=\"https://colab.research.google.com/assets/colab-badge.svg\" alt=\"Open In Colab\"/></a>"
      ]
    },
    {
      "cell_type": "code",
      "metadata": {
        "id": "B30jbhSLfFOU",
        "outputId": "14ba3f35-b5e0-4448-ea06-c8a938ef08e0",
        "colab": {
          "base_uri": "https://localhost:8080/",
          "height": 330
        }
      },
      "source": [
        "for i in range(1,10):\n",
        "  if (i>5):\n",
        "    i=10-i\n",
        "  print('\\n','*'*i)"
      ],
      "execution_count": 13,
      "outputs": [
        {
          "output_type": "stream",
          "text": [
            "\n",
            " *\n",
            "\n",
            " **\n",
            "\n",
            " ***\n",
            "\n",
            " ****\n",
            "\n",
            " *****\n",
            "\n",
            " ****\n",
            "\n",
            " ***\n",
            "\n",
            " **\n",
            "\n",
            " *\n"
          ],
          "name": "stdout"
        }
      ]
    },
    {
      "cell_type": "code",
      "metadata": {
        "id": "Kdm3qSZ_f764",
        "outputId": "ea84999b-75fa-4a53-974f-6b584e1eeda9",
        "colab": {
          "base_uri": "https://localhost:8080/",
          "height": 52
        }
      },
      "source": [
        "w =  input(\"Enter the Input word: \")\n",
        "print(\"Output word: \",w[::-1])"
      ],
      "execution_count": 14,
      "outputs": [
        {
          "output_type": "stream",
          "text": [
            "Enter the Input word: ineuron\n",
            "Output word:  norueni\n"
          ],
          "name": "stdout"
        }
      ]
    }
  ]
}